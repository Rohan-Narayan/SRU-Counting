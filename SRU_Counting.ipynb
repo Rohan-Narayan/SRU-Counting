{
  "nbformat": 4,
  "nbformat_minor": 0,
  "metadata": {
    "colab": {
      "provenance": [],
      "authorship_tag": "ABX9TyNYCWh/u/zYU2/jB9LJYL/u",
      "include_colab_link": true
    },
    "kernelspec": {
      "name": "python3",
      "display_name": "Python 3"
    },
    "language_info": {
      "name": "python"
    }
  },
  "cells": [
    {
      "cell_type": "markdown",
      "metadata": {
        "id": "view-in-github",
        "colab_type": "text"
      },
      "source": [
        "<a href=\"https://colab.research.google.com/github/Rohan-Narayan/sru-counting/blob/main/SRU_Counting.ipynb\" target=\"_parent\"><img src=\"https://colab.research.google.com/assets/colab-badge.svg\" alt=\"Open In Colab\"/></a>"
      ]
    },
    {
      "cell_type": "code",
      "execution_count": 82,
      "metadata": {
        "id": "cf41bYrr5Dfh"
      },
      "outputs": [],
      "source": [
        "import torch\n",
        "import torch.nn as nn\n",
        "import torch.optim as optim\n",
        "import numpy as np\n",
        "\n",
        "class SRUCell(nn.Module):\n",
        "    def __init__(self, input_size, hidden_size, activation=nn.Tanh()):\n",
        "        super(SRUCell, self).__init__()\n",
        "        self.input_size = input_size\n",
        "        self.hidden_size = hidden_size\n",
        "        self.activation = activation\n",
        "\n",
        "        self.reset_gate = nn.Linear(input_size + hidden_size, hidden_size)\n",
        "        self.update_gate = nn.Linear(input_size + hidden_size, hidden_size)\n",
        "        self.candidate = nn.Linear(input_size + hidden_size, hidden_size)\n",
        "\n",
        "    def forward(self, inputs, state):\n",
        "        combined = torch.cat((inputs, state), dim=1)\n",
        "        reset = torch.sigmoid(self.reset_gate(combined))\n",
        "        update = torch.sigmoid(self.update_gate(combined))\n",
        "        reset_state = reset * state\n",
        "        candidate_state = self.candidate(combined)\n",
        "        new_state = update * state + (1 - update) * candidate_state\n",
        "        output = reset_state + (1 - reset) * self.activation(new_state)\n",
        "        return output, new_state\n",
        "\n",
        "class SRUModel(nn.Module):\n",
        "    def __init__(self, input_size, hidden_size):\n",
        "        super(SRUModel, self).__init__()\n",
        "        self.sru_cell1 = SRUCell(input_size, hidden_size)\n",
        "        self.sru_cell2 = SRUCell(hidden_size, hidden_size)\n",
        "        self.dense = nn.Linear(hidden_size, 1)\n",
        "\n",
        "    def forward(self, inputs):\n",
        "        seq_len = inputs.size(1)\n",
        "        state = torch.zeros((inputs.size(0), self.sru_cell1.hidden_size), device=inputs.device)\n",
        "        for i in range(seq_len):\n",
        "            x = inputs[:, i].view(-1, 1)\n",
        "            x, state = self.sru_cell1(x, state)\n",
        "            output, state = self.sru_cell2(x, state)\n",
        "\n",
        "        output = self.dense(output)\n",
        "        return output\n"
      ]
    },
    {
      "cell_type": "code",
      "source": [
        "def generate_training_data(num_sequences, sequence_length):\n",
        "    X_train = []\n",
        "    y_train = []\n",
        "\n",
        "    for _ in range(num_sequences):\n",
        "        start_value = np.random.randint(1, 50)\n",
        "        new_sequence = [start_value + i for i in range(sequence_length)]\n",
        "        X_train.append(new_sequence[:-1])\n",
        "        y_train.append(new_sequence[-1])\n",
        "\n",
        "    X_train = np.array(X_train)\n",
        "    y_train = np.array(y_train)\n",
        "\n",
        "    return X_train, y_train"
      ],
      "metadata": {
        "id": "QZ_dX4D48A_I"
      },
      "execution_count": 87,
      "outputs": []
    },
    {
      "cell_type": "code",
      "source": [
        "X_train, y_train = generate_training_data(1000, 4)\n",
        "X_train = torch.tensor(X_train, dtype=torch.float32)\n",
        "y_train = torch.tensor(y_train, dtype=torch.float32)\n",
        "\n",
        "input_size = 1\n",
        "hidden_size = 32\n",
        "model = SRUModel(input_size, hidden_size)\n",
        "criterion = nn.MSELoss()\n",
        "optimizer = optim.Adam(model.parameters(), lr=0.001)\n",
        "\n",
        "epochs = 10001\n",
        "for epoch in range(epochs):\n",
        "    optimizer.zero_grad()\n",
        "    outputs = model(X_train)\n",
        "    loss = criterion(outputs.squeeze(), y_train)\n",
        "    loss.backward()\n",
        "    optimizer.step()\n",
        "\n",
        "    if epoch % 1000 == 0:\n",
        "        print(f'Epoch {epoch}/{epochs}, Loss: {loss.item()}')\n",
        "\n",
        "# Test the model\n",
        "X_test = torch.tensor([[2, 3, 4]], dtype=torch.float32)\n",
        "prediction = model(X_test)\n",
        "print(\"Predicted next number:\", prediction.item())"
      ],
      "metadata": {
        "colab": {
          "base_uri": "https://localhost:8080/"
        },
        "id": "SBir2sYY5PYM",
        "outputId": "0041158d-043b-4dd3-9ae8-e5f98826d130"
      },
      "execution_count": 88,
      "outputs": [
        {
          "output_type": "stream",
          "name": "stdout",
          "text": [
            "Epoch 0/10001, Loss: 1043.95166015625\n",
            "Epoch 1000/10001, Loss: 0.0015386036830022931\n",
            "Epoch 2000/10001, Loss: 5.955374945187941e-05\n",
            "Epoch 3000/10001, Loss: 1.4294002539827488e-05\n",
            "Epoch 4000/10001, Loss: 4.229873411532026e-06\n",
            "Epoch 5000/10001, Loss: 1.3856449641025392e-06\n",
            "Epoch 6000/10001, Loss: 7.454631827386038e-07\n",
            "Epoch 7000/10001, Loss: 6.734469479852123e-07\n",
            "Epoch 8000/10001, Loss: 1.6297078673233045e-06\n",
            "Epoch 9000/10001, Loss: 4.649822926694469e-07\n",
            "Epoch 10000/10001, Loss: 2.5979539941545227e-07\n",
            "Predicted next number: 5.001199245452881\n"
          ]
        }
      ]
    },
    {
      "cell_type": "code",
      "source": [
        "X_test = torch.tensor([[1,2,3]], dtype=torch.float32)\n",
        "prediction = model(X_test)\n",
        "print(\"Predicted next number:\", round(prediction.item()))"
      ],
      "metadata": {
        "colab": {
          "base_uri": "https://localhost:8080/"
        },
        "id": "CZmzLliC8cMh",
        "outputId": "42db84dc-aa7a-4c8e-88bf-b974f3db7ab4"
      },
      "execution_count": 92,
      "outputs": [
        {
          "output_type": "stream",
          "name": "stdout",
          "text": [
            "Predicted next number: 4\n"
          ]
        }
      ]
    },
    {
      "cell_type": "code",
      "source": [
        "X_test = torch.tensor([[7,8,9]], dtype=torch.float32)\n",
        "prediction = model(X_test)\n",
        "print(\"Predicted next number:\", round(prediction.item()))"
      ],
      "metadata": {
        "colab": {
          "base_uri": "https://localhost:8080/"
        },
        "id": "3SBmufZeBbyO",
        "outputId": "db2b00d0-d59c-4a9c-b641-6c9fd05ba1dc"
      },
      "execution_count": 93,
      "outputs": [
        {
          "output_type": "stream",
          "name": "stdout",
          "text": [
            "Predicted next number: 10\n"
          ]
        }
      ]
    },
    {
      "cell_type": "code",
      "source": [
        "X_test = torch.tensor([[20,21,22]], dtype=torch.float32)\n",
        "prediction = model(X_test)\n",
        "print(\"Predicted next number:\", round(prediction.item()))"
      ],
      "metadata": {
        "colab": {
          "base_uri": "https://localhost:8080/"
        },
        "id": "iYs22prlHwqr",
        "outputId": "a44d8d15-e107-4df9-ff45-6787852205a2"
      },
      "execution_count": 94,
      "outputs": [
        {
          "output_type": "stream",
          "name": "stdout",
          "text": [
            "Predicted next number: 23\n"
          ]
        }
      ]
    },
    {
      "cell_type": "code",
      "source": [
        "X_test = torch.tensor([[83,84,85]], dtype=torch.float32)\n",
        "prediction = model(X_test)\n",
        "print(\"Predicted next number:\", round(prediction.item()))"
      ],
      "metadata": {
        "colab": {
          "base_uri": "https://localhost:8080/"
        },
        "id": "uUgjw3RsHzNU",
        "outputId": "0a5a3c18-5d56-4d0c-9d05-b034e8385a37"
      },
      "execution_count": 95,
      "outputs": [
        {
          "output_type": "stream",
          "name": "stdout",
          "text": [
            "Predicted next number: 86\n"
          ]
        }
      ]
    },
    {
      "cell_type": "code",
      "source": [
        "X_test = torch.tensor([[-3,-2,-1]], dtype=torch.float32)\n",
        "prediction = model(X_test)\n",
        "print(\"Predicted next number:\", round(prediction.item()))"
      ],
      "metadata": {
        "colab": {
          "base_uri": "https://localhost:8080/"
        },
        "id": "_VDMXT1mH3nk",
        "outputId": "66c0f0bd-8fee-4474-9591-2be077a3e8d4"
      },
      "execution_count": 97,
      "outputs": [
        {
          "output_type": "stream",
          "name": "stdout",
          "text": [
            "Predicted next number: 0\n"
          ]
        }
      ]
    }
  ]
}